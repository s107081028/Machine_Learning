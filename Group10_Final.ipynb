{
  "nbformat": 4,
  "nbformat_minor": 0,
  "metadata": {
    "colab": {
      "name": "Group10_Final.ipynb",
      "provenance": [],
      "collapsed_sections": []
    },
    "kernelspec": {
      "name": "python3",
      "display_name": "Python 3"
    },
    "language_info": {
      "name": "python"
    }
  },
  "cells": [
    {
      "cell_type": "code",
      "execution_count": null,
      "metadata": {
        "colab": {
          "base_uri": "https://localhost:8080/"
        },
        "id": "1rL9Tlr9K1dW",
        "outputId": "4eb85003-67a1-43d6-c966-b3a84d4b5f3e"
      },
      "outputs": [
        {
          "output_type": "stream",
          "name": "stdout",
          "text": [
            "Mounted at /content/drive\n"
          ]
        }
      ],
      "source": [
        "from google.colab import drive\n",
        "drive.mount('/content/drive')"
      ]
    },
    {
      "cell_type": "code",
      "source": [
        "# %cd drive/MyDrive/marathon/\n",
        "%cd drive/MyDrive/Colab_Notebooks/marathon"
      ],
      "metadata": {
        "colab": {
          "base_uri": "https://localhost:8080/"
        },
        "id": "bP4N3QlqK_UG",
        "outputId": "41a2123f-9711-44ee-d06b-14df93c8a150"
      },
      "execution_count": null,
      "outputs": [
        {
          "output_type": "stream",
          "name": "stdout",
          "text": [
            "/content/drive/.shortcut-targets-by-id/1K3xtl7peC3wpLKUftll_uink5F8_oAbQ/marathon\n"
          ]
        }
      ]
    },
    {
      "cell_type": "code",
      "source": [
        "import pandas as pd\n",
        "import numpy as np"
      ],
      "metadata": {
        "id": "3hRRchVgLfEp"
      },
      "execution_count": null,
      "outputs": []
    },
    {
      "cell_type": "markdown",
      "source": [
        "#Preprocessing"
      ],
      "metadata": {
        "id": "yDvvOkYRLWYW"
      }
    },
    {
      "cell_type": "markdown",
      "source": [
        "### Read Label\n"
      ],
      "metadata": {
        "id": "R3PWP_AYN2MK"
      }
    },
    {
      "cell_type": "code",
      "source": [
        "#read label file\n",
        "df = pd.read_csv('training-label.csv')"
      ],
      "metadata": {
        "id": "94ozZKWsLU0u"
      },
      "execution_count": null,
      "outputs": []
    },
    {
      "cell_type": "markdown",
      "source": [
        "### Datetime to integer (Standardize later)"
      ],
      "metadata": {
        "id": "vrI5wvfGN1zj"
      }
    },
    {
      "cell_type": "code",
      "source": [
        "#read train data, split Data, Time, t2s convert\n",
        "data = pd.read_csv('train.csv')\n",
        "data['Date'] = data['created_time'].str.split(' ').str.get(0)\n",
        "data['Time'] = data['created_time'].str.split(' ').str.get(1)\n",
        "\n",
        "def t2s(t):\n",
        "    h,m,s = t.strip().split(\":\")\n",
        "    return int(h) * 3600 + int(m) * 60 + int(s)\n",
        "\n",
        "time = []\n",
        "for t in data['Time']:\n",
        "  time.append(t2s(t))\n",
        "\n",
        "df_time = pd.DataFrame(time, columns = ['Times'])\n",
        "frames = [data, df_time]\n",
        "data = pd.concat(frames, axis=1)\n",
        "data = data.drop(['created_time', 'Time'], axis=1)"
      ],
      "metadata": {
        "id": "XtvwOrE3LgJC"
      },
      "execution_count": null,
      "outputs": []
    },
    {
      "cell_type": "code",
      "source": [
        "test_data = pd.read_csv('test.csv')\n",
        "test_data['Date'] = test_data['created_time'].str.split(' ').str.get(0)\n",
        "test_data['Date'] = pd.to_datetime(test_data['Date'])\n",
        "test_data['Time'] = test_data['created_time'].str.split(' ').str.get(1)\n",
        "\n",
        "time = []\n",
        "for t in test_data['Time']:\n",
        "  time.append(t2s(t))\n",
        "\n",
        "df_time = pd.DataFrame(time, columns = ['Times'])\n",
        "frames = [test_data, df_time]\n",
        "test_data = pd.concat(frames, axis=1)\n",
        "test_data = test_data.drop(columns = ['created_time', 'Time'])"
      ],
      "metadata": {
        "id": "JmPzncC-Lona"
      },
      "execution_count": null,
      "outputs": []
    },
    {
      "cell_type": "markdown",
      "source": [
        "### Time Stayed in each Stands corresponding to each Participants\n",
        "### Outliers counter\n",
        "### Participating Date"
      ],
      "metadata": {
        "id": "Qj6ZJiulNu4z"
      }
    },
    {
      "cell_type": "code",
      "source": [
        "table = pd.DataFrame(0, index=np.arange(len(df['mac_hash'])), columns=np.arange(21))\n",
        "table[0] = df['mac_hash']\n",
        "data_new = data.sort_values([\"mac_hash\", \"Date\", \"Times\"], ignore_index=True)\n",
        "past_hash = None\n",
        "past_Date = None\n",
        "Dates = ['2018-12-06', '2018-12-07', '2018-12-08']\n",
        "avg = 441.77\n",
        "for idx, row in data_new.iterrows():\n",
        "  if idx + 1 == len(data_new):\n",
        "    index = table.index[table[0]==row[\"mac_hash\"]].tolist()[0]\n",
        "    table.iloc[index,row[\"sniffer_loc\"]] += avg\n",
        "    table.iloc[index, 20] += 1\n",
        "    if row[\"Date\"] == Dates[0]:\n",
        "      table.iloc[index, 15] = 1.0\n",
        "    elif row[\"Date\"] == Dates[1]:\n",
        "      table.iloc[index, 16] = 1.0\n",
        "    elif row[\"Date\"] == Dates[2]:\n",
        "      table.iloc[index, 17] = 1.0\n",
        "    break\n",
        "  if idx + 1 != len(data_new):\n",
        "    delta_time = data_new.iloc[idx + 1, 3] - row[\"Times\"]\n",
        "  index = table.index[table[0]==row[\"mac_hash\"]].tolist()[0]\n",
        "  table.iloc[index, 20] += 1\n",
        "\n",
        "  # Date\n",
        "  if row[\"Date\"] == Dates[0]:\n",
        "    table.iloc[index, 15] = 1.0\n",
        "  elif row[\"Date\"] == Dates[1]:\n",
        "    table.iloc[index, 16] = 1.0\n",
        "  elif row[\"Date\"] == Dates[2]:\n",
        "    table.iloc[index, 17] = 1.0\n",
        "\n",
        "  # delta time\n",
        "  if data_new.iloc[idx + 1, 0] != row[\"mac_hash\"] or data_new.iloc[idx + 1, 2] != row[\"Date\"]:\n",
        "    index = table.index[table[0]==row[\"mac_hash\"]].tolist()[0]\n",
        "    table.iloc[index, row[\"sniffer_loc\"]] += avg\n",
        "  elif delta_time >= 1800:\n",
        "    index = table.index[table[0]==row[\"mac_hash\"]].tolist()[0]\n",
        "    table.iloc[index, row[\"sniffer_loc\"]] += avg\n",
        "    table.iloc[index, 19] += 1.0\n",
        "  elif delta_time <= 30:\n",
        "    index = table.index[table[0]==row[\"mac_hash\"]].tolist()[0]\n",
        "    table.iloc[index, row[\"sniffer_loc\"]] += 30\n",
        "    table.iloc[index, 18] += 1.0\n",
        "  else :\n",
        "    index = table.index[table[0]==row[\"mac_hash\"]].tolist()[0]\n",
        "    table.iloc[index, row[\"sniffer_loc\"]] += delta_time"
      ],
      "metadata": {
        "id": "YukyZmIxL3AV"
      },
      "execution_count": 36,
      "outputs": []
    },
    {
      "cell_type": "markdown",
      "source": [
        "### Order of visiting"
      ],
      "metadata": {
        "id": "rb_33l2PPms_"
      }
    },
    {
      "cell_type": "code",
      "source": [
        "columns = ['mac_hash', '1st', '2nd', '3rd', '4th', '5th', '6th', '7th', '8th', '9th', '10th', '11st', '12nd', '13th', '14th', 'total']\n",
        "table2 = pd.DataFrame(0, index=np.arange(len(df['mac_hash'])), columns=columns)\n",
        "table2['mac_hash'] = df['mac_hash']\n",
        "data_new = data.sort_values([\"mac_hash\", \"Date\", \"Times\"], ignore_index=True)\n",
        "past_hash = None\n",
        "past_Date = None\n",
        "Dates = ['2018-12-06', '2018-12-07', '2018-12-08']\n",
        "queue = 1\n",
        "start_time = 0\n",
        "start_date = None\n",
        "for idx, row in data_new.iterrows():\n",
        "  index = table2.index[table[0]==row[\"mac_hash\"]].tolist()[0]\n",
        "\n",
        "  if idx + 1 != len(data_new):\n",
        "    # Ruined\n",
        "    delta_time = data_new.iloc[idx + 1, 3] - row[\"Times\"]\n",
        "  elif data_new.iloc[idx - 1, 0] != row[\"mac_hash\"]:\n",
        "    queue = 1\n",
        "    table2.iloc[index, queue] = row[\"sniffer_loc\"]\n",
        "    break\n",
        "  else:\n",
        "    queue += 1\n",
        "    table2.iloc[index, queue] = row[\"sniffer_loc\"]\n",
        "    table2.loc[index, 'total'] = row[\"Times\"] - start_time\n",
        "    break\n",
        "\n",
        "  # Queue\n",
        "  if idx == 0:\n",
        "    start_time = row[\"Times\"]\n",
        "    start_date = row['Date']\n",
        "    queue = 1\n",
        "  elif data_new.iloc[idx - 1, 0] != row[\"mac_hash\"]:\n",
        "    start_time = row[\"Times\"]\n",
        "    start_date = row['Date']\n",
        "    queue = 1\n",
        "  elif data_new.iloc[idx + 1, 0] != row[\"mac_hash\"]:\n",
        "    if start_date == row['Date']:\n",
        "      table2.loc[index, 'total'] = row[\"Times\"] - start_time\n",
        "    queue += 1\n",
        "  else:\n",
        "    queue += 1\n",
        "  table2.iloc[index, queue] = row[\"sniffer_loc\"]"
      ],
      "metadata": {
        "id": "9fuMogeMMlyo"
      },
      "execution_count": 37,
      "outputs": []
    },
    {
      "cell_type": "markdown",
      "source": [
        "### Counter of Passby of each group of stands"
      ],
      "metadata": {
        "id": "tiIlMZ42P_zc"
      }
    },
    {
      "cell_type": "code",
      "source": [
        "stand_labels = [[1], [2,4,5,6], [3], [7,8,13], [9,10,11], [12,14]]\n",
        "\n",
        "def which_label(loc):\n",
        "  for i in range(len(stand_labels)):\n",
        "    if loc in stand_labels[i]:\n",
        "      return i"
      ],
      "metadata": {
        "id": "PpE1l8hZNDmV"
      },
      "execution_count": 38,
      "outputs": []
    },
    {
      "cell_type": "code",
      "source": [
        "columns = ['mac_hash']\n",
        "for i in range(6):\n",
        "  columns.append(f'Stand_label_{i}')\n",
        "table_label_count = pd.DataFrame(0, index=np.arange(len(df['mac_hash'])), columns=columns)\n",
        "table_label_count['mac_hash'] = df['mac_hash']\n",
        "\n",
        "for idx, row in data_new.iterrows():\n",
        "  index = table_label_count.index[table_label_count['mac_hash']==row[\"mac_hash\"]].tolist()[0]\n",
        "  label = which_label(row['sniffer_loc'])\n",
        "  table_label_count.loc[index, f'Stand_label_{label}'] += 1.0"
      ],
      "metadata": {
        "id": "sDYbx-m3NVST"
      },
      "execution_count": 39,
      "outputs": []
    },
    {
      "cell_type": "markdown",
      "source": [
        "### Concatenation of extracted features"
      ],
      "metadata": {
        "id": "mTgqU3U0QTYz"
      }
    },
    {
      "cell_type": "code",
      "source": [
        "table.rename(columns={0: 'mac_hash'}, inplace=True)\n",
        "concat = table_label_count.merge(table2)\n",
        "concat = concat.merge(table)"
      ],
      "metadata": {
        "id": "zSWPFDSmNtCz"
      },
      "execution_count": 40,
      "outputs": []
    },
    {
      "cell_type": "code",
      "source": [
        "y = df['label']\n",
        "X = concat.drop(['mac_hash'], axis=1)\n",
        "assert(X.shape[0] == y.shape[0])"
      ],
      "metadata": {
        "id": "ZgIsxpyzQhcl"
      },
      "execution_count": 41,
      "outputs": []
    },
    {
      "cell_type": "markdown",
      "source": [
        "# Feature Importance"
      ],
      "metadata": {
        "id": "kXYuEjqQQf7V"
      }
    },
    {
      "cell_type": "code",
      "source": [
        "from sklearn.model_selection import train_test_split\n",
        "X_train, X_test, y_train, y_test = train_test_split(X, y, test_size = 0.3, random_state = 0, stratify = y)\n",
        "\n",
        "from sklearn.preprocessing import StandardScaler\n",
        "scaler = StandardScaler().fit(np.array(X_train))\n",
        "X_train_scaled = scaler.transform(np.array(X_train))\n",
        "X_test_scaled = scaler.transform(np.array(X_test))\n",
        "\n",
        "from sklearn.ensemble import RandomForestClassifier\n",
        "forest = RandomForestClassifier(random_state=0)\n",
        "forest.fit(X_train_scaled, y_train)"
      ],
      "metadata": {
        "colab": {
          "base_uri": "https://localhost:8080/",
          "height": 0
        },
        "id": "MuIWPTUXQfgL",
        "outputId": "4df4d679-d4ea-4ebe-b581-6daaac5260c3"
      },
      "execution_count": 42,
      "outputs": [
        {
          "output_type": "execute_result",
          "data": {
            "text/plain": [
              "RandomForestClassifier(random_state=0)"
            ]
          },
          "metadata": {},
          "execution_count": 42
        }
      ]
    },
    {
      "cell_type": "markdown",
      "source": [
        "### Random Forest with MDI"
      ],
      "metadata": {
        "id": "5VVxsyEWRHcA"
      }
    },
    {
      "cell_type": "code",
      "source": [
        "import matplotlib.pyplot as plt\n",
        "importances = forest.feature_importances_\n",
        "forest_importances = pd.Series(importances)\n",
        "std = np.std([tree.feature_importances_ for tree in forest.estimators_], axis=0)\n",
        "\n",
        "fig, ax = plt.subplots()\n",
        "forest_importances.plot.bar(yerr=std, ax=ax)\n",
        "ax.set_title(\"Feature importances using MDI\")\n",
        "ax.set_ylabel(\"Mean decrease in impurity\")\n",
        "fig.tight_layout()"
      ],
      "metadata": {
        "colab": {
          "base_uri": "https://localhost:8080/",
          "height": 297
        },
        "id": "TaT39vKnQ712",
        "outputId": "7d1916a6-837f-4b04-98e0-4e8c71d1900b"
      },
      "execution_count": 43,
      "outputs": [
        {
          "output_type": "display_data",
          "data": {
            "text/plain": [
              "<Figure size 432x288 with 1 Axes>"
            ],
            "image/png": "[encoded data removed]"
          },
          "metadata": {
            "needs_background": "light"
          }
        }
      ]
    },
    {
      "cell_type": "markdown",
      "source": [
        "# Nested Cross Validation"
      ],
      "metadata": {
        "id": "wPAxZ_7mRNg5"
      }
    },
    {
      "cell_type": "markdown",
      "source": [
        "### Define Scorer as Required: LogLoss"
      ],
      "metadata": {
        "id": "qYWa0u-YRdTy"
      }
    },
    {
      "cell_type": "code",
      "source": [
        "from sklearn.metrics import make_scorer\n",
        "from sklearn.model_selection import KFold, GridSearchCV, cross_val_score\n",
        "from sklearn.pipeline import Pipeline\n",
        "from xgboost import XGBClassifier\n",
        "\n",
        "def logloss(y_test, X_test_predicted):\n",
        "  a = 0\n",
        "  y_test_ls = y_test.tolist()\n",
        "  for idx in range(X_test_predicted.shape[0]):\n",
        "    # print(X_test_predicted[idx])\n",
        "    target = y_test_ls[idx]\n",
        "    a += -np.log(X_test_predicted[idx][target])\n",
        "\n",
        "  return a / X_test_predicted.shape[0]\n",
        "\n",
        "loss = make_scorer(logloss, greater_is_better=False, needs_proba = True)"
      ],
      "metadata": {
        "id": "LKCZ9JrhRQhS"
      },
      "execution_count": 44,
      "outputs": []
    },
    {
      "cell_type": "markdown",
      "source": [
        "### Nested K-Fold\n",
        "##### Outer CV: 10 folds\n",
        "##### Inner CV: 5 folds"
      ],
      "metadata": {
        "id": "UaH_ylmXRigp"
      }
    },
    {
      "cell_type": "code",
      "source": [
        "cv = KFold(n_splits=10, shuffle=True, random_state=1)\n",
        "inner_cv = KFold(n_splits=5, shuffle=True, random_state=1)\n",
        "outer_scores = []\n",
        "cv_X = np.array(X)\n",
        "cv_y = np.array(y)\n",
        "for i, (train_idx, test_idx) in enumerate(cv.split(cv_X, cv_y)): \n",
        "    print('[Outer fold %d/5]' % (i + 1))\n",
        "    X_train, X_test = cv_X[train_idx], cv_X[test_idx]\n",
        "    y_train, y_test = cv_y[train_idx], cv_y[test_idx]  \n",
        "    best_k, best_score = -1, -1\n",
        "    param_grid = {'clf__n_estimators': [50, 100, 150, 200, 250],         # 可以再更大\n",
        "             'clf__max_depth': [10, 20, 30, 40, 50],\n",
        "             'clf__learning_rate': [0.01, 0.03, 0.05, 0.1, 0.2],\n",
        "             'clf__colsample_bytree': [0.1, 0.3, 0.5, 0.7, 0.9]}\n",
        "\n",
        "    # hyperparameter tuning \n",
        "    pipe = Pipeline([['sc', StandardScaler()],\n",
        "              ['clf', XGBClassifier()]])\n",
        "    gs = GridSearchCV(estimator=pipe, param_grid=param_grid,\n",
        "              scoring=loss, verbose=0, cv=inner_cv)\n",
        "    gs.fit(X_train, y_train)\n",
        "\n",
        "    # evaluate performance on test fold\n",
        "    best_clf = gs.best_estimator_\n",
        "    best_clf.fit(X_train, y_train)    \n",
        "    y_pred = best_clf.predict_proba(X_test)\n",
        "    outer_scores.append(logloss(y_test, y_pred))\n",
        "    print(f'Test Loss: {outer_scores[i]} (parameters: {gs.best_estimator_})')\n",
        "\n",
        "print(f'\\nTest Loss: {np.mean(outer_scores)}')"
      ],
      "metadata": {
        "id": "5FSd4WtQSG-I"
      },
      "execution_count": null,
      "outputs": []
    },
    {
      "cell_type": "code",
      "source": [
        "best_clf.fit(X_train_scaled, y_train)\n",
        "logloss(y_test, best_clf.predict_proba(X_test_scaled))"
      ],
      "metadata": {
        "id": "aCFfG-QZSqOC",
        "colab": {
          "base_uri": "https://localhost:8080/",
          "height": 0
        },
        "outputId": "c0887cce-73cd-4a58-ad5a-7ba1d4ba93bc"
      },
      "execution_count": 45,
      "outputs": [
        {
          "output_type": "execute_result",
          "data": {
            "text/plain": [
              "0.06286739714464748"
            ]
          },
          "metadata": {},
          "execution_count": 45
        }
      ]
    },
    {
      "cell_type": "markdown",
      "source": [
        "### HyperParameters Fit on Whole Data"
      ],
      "metadata": {
        "id": "uUfxMJl_TlRN"
      }
    },
    {
      "cell_type": "code",
      "source": [
        "scaler = StandardScaler().fit(X)\n",
        "X_scaled = scaler.transform(X)\n",
        "best_clf.fit(X_scaled, y)"
      ],
      "metadata": {
        "colab": {
          "base_uri": "https://localhost:8080/",
          "height": 0
        },
        "id": "gPmJdn53Tdnt",
        "outputId": "643a6f72-12b6-40cb-ce6c-53a4d20eeded"
      },
      "execution_count": 46,
      "outputs": [
        {
          "output_type": "stream",
          "name": "stderr",
          "text": [
            "/usr/local/lib/python3.7/dist-packages/sklearn/utils/validation.py:1692: FutureWarning: Feature names only support names that are all strings. Got feature names with dtypes: ['int', 'str']. An error will be raised in 1.2.\n",
            "  FutureWarning,\n",
            "/usr/local/lib/python3.7/dist-packages/sklearn/utils/validation.py:1692: FutureWarning: Feature names only support names that are all strings. Got feature names with dtypes: ['int', 'str']. An error will be raised in 1.2.\n",
            "  FutureWarning,\n"
          ]
        },
        {
          "output_type": "execute_result",
          "data": {
            "text/plain": [
              "XGBClassifier(colsample_bytree=0.3, max_depth=4, n_estimators=275,\n",
              "              objective='multi:softprob')"
            ]
          },
          "metadata": {},
          "execution_count": 46
        }
      ]
    },
    {
      "cell_type": "markdown",
      "source": [
        "# Predict on Test Data"
      ],
      "metadata": {
        "id": "_r5VAAwBT7_e"
      }
    },
    {
      "cell_type": "code",
      "source": [
        "data_new = test_data.sort_values([\"mac_hash\", \"Date\", \"Times\"], ignore_index=True)\n",
        "\n",
        "sub_label = pd.read_csv('submit_samples.csv')"
      ],
      "metadata": {
        "id": "DZoSUzE4Ts5c"
      },
      "execution_count": 47,
      "outputs": []
    },
    {
      "cell_type": "markdown",
      "source": [
        "### Same Prepocessing"
      ],
      "metadata": {
        "id": "xrXNq1BXUV62"
      }
    },
    {
      "cell_type": "code",
      "source": [
        "table = pd.DataFrame(0, index=np.arange(len(sub_label['mac_hash'])), columns=np.arange(21))\n",
        "table[0] = sub_label['mac_hash']\n",
        "past_hash = None\n",
        "past_Date = None\n",
        "Dates = ['2018-12-06', '2018-12-07', '2018-12-08']\n",
        "avg = 441.77\n",
        "for idx, row in data_new.iterrows():\n",
        "  if idx + 1 == len(data_new):\n",
        "    index = table.index[table[0]==row[\"mac_hash\"]].tolist()[0]\n",
        "    table.iloc[index,row[\"sniffer_loc\"]] += avg\n",
        "    table.iloc[index, 20] += 1\n",
        "    if row[\"Date\"] == Dates[0]:\n",
        "      table.iloc[index, 15] = 1.0\n",
        "    elif row[\"Date\"] == Dates[1]:\n",
        "      table.iloc[index, 16] = 1.0\n",
        "    elif row[\"Date\"] == Dates[2]:\n",
        "      table.iloc[index, 17] = 1.0\n",
        "    break\n",
        "  if idx + 1 != len(data_new):\n",
        "    delta_time = data_new.iloc[idx + 1, 3] - row[\"Times\"]\n",
        "  index = table.index[table[0]==row[\"mac_hash\"]].tolist()[0]\n",
        "  table.iloc[index, 20] += 1\n",
        "  # Date\n",
        "  if row[\"Date\"] == Dates[0]:\n",
        "    table.iloc[index, 15] = 1.0\n",
        "  elif row[\"Date\"] == Dates[1]:\n",
        "    table.iloc[index, 16] = 1.0\n",
        "  elif row[\"Date\"] == Dates[2]:\n",
        "    table.iloc[index, 17] = 1.0\n",
        "\n",
        "  # delta time\n",
        "  if data_new.iloc[idx + 1, 0] != row[\"mac_hash\"] or data_new.iloc[idx + 1, 2] != row[\"Date\"]:\n",
        "    index = table.index[table[0]==row[\"mac_hash\"]].tolist()[0]\n",
        "    table.iloc[index, row[\"sniffer_loc\"]] += avg\n",
        "  elif delta_time >= 1800:\n",
        "    index = table.index[table[0]==row[\"mac_hash\"]].tolist()[0]\n",
        "    table.iloc[index, row[\"sniffer_loc\"]] += avg\n",
        "    table.iloc[index, 19] += 1.0\n",
        "  elif delta_time <= 30:\n",
        "    index = table.index[table[0]==row[\"mac_hash\"]].tolist()[0]\n",
        "    table.iloc[index, row[\"sniffer_loc\"]] += 30\n",
        "    table.iloc[index, 18] += 1.0\n",
        "  else :\n",
        "    index = table.index[table[0]==row[\"mac_hash\"]].tolist()[0]\n",
        "    table.iloc[index, row[\"sniffer_loc\"]] += delta_time"
      ],
      "metadata": {
        "id": "oBJBcy7sURdV"
      },
      "execution_count": 48,
      "outputs": []
    },
    {
      "cell_type": "code",
      "source": [
        "columns = ['mac_hash', '1st', '2nd', '3rd', '4th', '5th', '6th', '7th', '8th', '9th', '10th', '11st', '12nd', '13th', '14th', 'total']\n",
        "table2 = pd.DataFrame(0, index=np.arange(len(sub_label['mac_hash'])), columns=columns)\n",
        "table2['mac_hash'] = sub_label['mac_hash']\n",
        "past_hash = None\n",
        "past_Date = None\n",
        "Dates = ['2018-12-06', '2018-12-07', '2018-12-08']\n",
        "queue = 1\n",
        "start_time = 0\n",
        "start_date = None\n",
        "for idx, row in data_new.iterrows():\n",
        "  index = table2.index[table[0]==row[\"mac_hash\"]].tolist()[0]\n",
        "\n",
        "  if idx + 1 != len(data_new):\n",
        "    # Ruined\n",
        "    delta_time = data_new.iloc[idx + 1, 3] - row[\"Times\"]\n",
        "  elif data_new.iloc[idx - 1, 0] != row[\"mac_hash\"]:\n",
        "    queue = 1\n",
        "    table2.iloc[index, queue] = row[\"sniffer_loc\"]\n",
        "    break\n",
        "  else:\n",
        "    queue += 1\n",
        "    table2.iloc[index, queue] = row[\"sniffer_loc\"]\n",
        "    table2.loc[index, 'total'] = row[\"Times\"] - start_time\n",
        "    break\n",
        "\n",
        "  # Queue\n",
        "  if idx == 0:\n",
        "    start_time = row[\"Times\"]\n",
        "    start_date = row['Date']\n",
        "    queue = 1\n",
        "  elif data_new.iloc[idx - 1, 0] != row[\"mac_hash\"]:\n",
        "    start_time = row[\"Times\"]\n",
        "    start_date = row['Date']\n",
        "    queue = 1\n",
        "  elif data_new.iloc[idx + 1, 0] != row[\"mac_hash\"]:\n",
        "    if start_date == row['Date']:\n",
        "      table2.loc[index, 'total'] = row[\"Times\"] - start_time\n",
        "    queue += 1\n",
        "  else:\n",
        "    queue += 1\n",
        "  table2.iloc[index, queue] = row[\"sniffer_loc\"]"
      ],
      "metadata": {
        "id": "n-R1ZHuqUa4P"
      },
      "execution_count": 49,
      "outputs": []
    },
    {
      "cell_type": "code",
      "source": [
        "columns = ['mac_hash']\n",
        "for i in range(6):\n",
        "  columns.append(f'Stand_label_{i}')\n",
        "\n",
        "test_stand_label = pd.DataFrame(0, index=np.arange(len(sub_label['mac_hash'])), columns=columns)\n",
        "test_stand_label['mac_hash'] = sub_label['mac_hash']\n",
        "past_hash = None\n",
        "past_Date = None\n",
        "for idx, row in data_new.iterrows():\n",
        "  index = test_stand_label.index[test_stand_label['mac_hash']==row[\"mac_hash\"]].tolist()[0]\n",
        "  label = which_label(row['sniffer_loc'])\n",
        "  test_stand_label.loc[index, f'Stand_label_{label}'] += 1.0"
      ],
      "metadata": {
        "id": "BFtoXDZGUi7t"
      },
      "execution_count": 50,
      "outputs": []
    },
    {
      "cell_type": "code",
      "source": [
        "table.rename(columns={0: 'mac_hash'}, inplace=True)\n",
        "concat = test_stand_label.merge(table2)\n",
        "concat = concat.merge(table)"
      ],
      "metadata": {
        "id": "omMF1dw_UqBg"
      },
      "execution_count": 51,
      "outputs": []
    },
    {
      "cell_type": "markdown",
      "source": [
        "### Prediction to csv"
      ],
      "metadata": {
        "id": "TuuP8PnJUVU2"
      }
    },
    {
      "cell_type": "code",
      "source": [
        "X_sub = concat.drop(['mac_hash'], axis=1)\n",
        "X_sub_scaled = scaler.transform(X_sub)\n",
        "predicted = best_clf.predict_proba(X_sub_scaled)\n",
        "column_names = [\"mac_hash\", \"C0\", \"C1\", \"C2\", \"C3\", \"C4\"]\n",
        "lab = sub_label['mac_hash'].to_numpy().reshape(-1,1)\n",
        "content = np.hstack((lab, predicted))\n",
        "submit = pd.DataFrame(content, columns=column_names)\n",
        "# submit.to_csv('submit.csv', index = False)"
      ],
      "metadata": {
        "colab": {
          "base_uri": "https://localhost:8080/",
          "height": 0
        },
        "id": "6TYFpPAFU3JR",
        "outputId": "14f58c4d-8d50-43fe-9979-cce9641acd67"
      },
      "execution_count": 52,
      "outputs": [
        {
          "output_type": "stream",
          "name": "stderr",
          "text": [
            "/usr/local/lib/python3.7/dist-packages/sklearn/utils/validation.py:1692: FutureWarning: Feature names only support names that are all strings. Got feature names with dtypes: ['int', 'str']. An error will be raised in 1.2.\n",
            "  FutureWarning,\n"
          ]
        }
      ]
    }
  ]
}